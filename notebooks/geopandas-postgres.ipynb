{
 "cells": [
  {
   "cell_type": "code",
   "execution_count": 13,
   "metadata": {},
   "outputs": [],
   "source": [
    "import geopandas as gpd\n",
    "import matplotlib.pyplot as plt\n",
    "import pandas as pd\n",
    "import numpy as np"
   ]
  },
  {
   "cell_type": "code",
   "execution_count": 14,
   "metadata": {},
   "outputs": [
    {
     "data": {
      "text/html": [
       "<div>\n",
       "<style scoped>\n",
       "    .dataframe tbody tr th:only-of-type {\n",
       "        vertical-align: middle;\n",
       "    }\n",
       "\n",
       "    .dataframe tbody tr th {\n",
       "        vertical-align: top;\n",
       "    }\n",
       "\n",
       "    .dataframe thead th {\n",
       "        text-align: right;\n",
       "    }\n",
       "</style>\n",
       "<table border=\"1\" class=\"dataframe\">\n",
       "  <thead>\n",
       "    <tr style=\"text-align: right;\">\n",
       "      <th></th>\n",
       "      <th>NAME_1</th>\n",
       "      <th>NAME_2</th>\n",
       "      <th>CC_2</th>\n",
       "      <th>NAT2018</th>\n",
       "      <th>geometry</th>\n",
       "    </tr>\n",
       "  </thead>\n",
       "  <tbody>\n",
       "    <tr>\n",
       "      <td>0</td>\n",
       "      <td>Andalucía</td>\n",
       "      <td>Almería</td>\n",
       "      <td>04</td>\n",
       "      <td>10.48</td>\n",
       "      <td>MULTIPOLYGON (((-3.03042 35.94236, -3.03375 35...</td>\n",
       "    </tr>\n",
       "    <tr>\n",
       "      <td>1</td>\n",
       "      <td>Andalucía</td>\n",
       "      <td>Cádiz</td>\n",
       "      <td>11</td>\n",
       "      <td>8.11</td>\n",
       "      <td>MULTIPOLYGON (((-6.21958 36.38110, -6.21958 36...</td>\n",
       "    </tr>\n",
       "    <tr>\n",
       "      <td>2</td>\n",
       "      <td>Andalucía</td>\n",
       "      <td>Córdoba</td>\n",
       "      <td>14</td>\n",
       "      <td>7.90</td>\n",
       "      <td>MULTIPOLYGON (((-5.04854 37.63690, -5.02637 37...</td>\n",
       "    </tr>\n",
       "    <tr>\n",
       "      <td>3</td>\n",
       "      <td>Andalucía</td>\n",
       "      <td>Granada</td>\n",
       "      <td>18</td>\n",
       "      <td>7.78</td>\n",
       "      <td>POLYGON ((-3.35014 36.72952, -3.77292 36.73125...</td>\n",
       "    </tr>\n",
       "    <tr>\n",
       "      <td>4</td>\n",
       "      <td>Andalucía</td>\n",
       "      <td>Huelva</td>\n",
       "      <td>21</td>\n",
       "      <td>7.57</td>\n",
       "      <td>MULTIPOLYGON (((-6.83648 37.11547, -6.83458 37...</td>\n",
       "    </tr>\n",
       "  </tbody>\n",
       "</table>\n",
       "</div>"
      ],
      "text/plain": [
       "      NAME_1   NAME_2 CC_2  NAT2018  \\\n",
       "0  Andalucía  Almería   04    10.48   \n",
       "1  Andalucía    Cádiz   11     8.11   \n",
       "2  Andalucía  Córdoba   14     7.90   \n",
       "3  Andalucía  Granada   18     7.78   \n",
       "4  Andalucía   Huelva   21     7.57   \n",
       "\n",
       "                                            geometry  \n",
       "0  MULTIPOLYGON (((-3.03042 35.94236, -3.03375 35...  \n",
       "1  MULTIPOLYGON (((-6.21958 36.38110, -6.21958 36...  \n",
       "2  MULTIPOLYGON (((-5.04854 37.63690, -5.02637 37...  \n",
       "3  POLYGON ((-3.35014 36.72952, -3.77292 36.73125...  \n",
       "4  MULTIPOLYGON (((-6.83648 37.11547, -6.83458 37...  "
      ]
     },
     "execution_count": 14,
     "metadata": {},
     "output_type": "execute_result"
    }
   ],
   "source": [
    "# Cargar la capa temática\n",
    "natalidad = \"/Users/jesussono/PycharmProjects/flask-dash-board/data/natalidad2.geojson\"\n",
    "map_data = gpd.read_file(natalidad)\n",
    "map_data.head()"
   ]
  },
  {
   "cell_type": "code",
   "execution_count": 15,
   "metadata": {},
   "outputs": [
    {
     "name": "stdout",
     "output_type": "stream",
     "text": [
      "<class 'geopandas.geodataframe.GeoDataFrame'>\n",
      "RangeIndex: 50 entries, 0 to 49\n",
      "Data columns (total 5 columns):\n",
      "NAME_1      50 non-null object\n",
      "NAME_2      50 non-null object\n",
      "CC_2        50 non-null object\n",
      "NAT2018     50 non-null float64\n",
      "geometry    50 non-null geometry\n",
      "dtypes: float64(1), geometry(1), object(3)\n",
      "memory usage: 2.1+ KB\n"
     ]
    }
   ],
   "source": [
    "map_data.info()"
   ]
  },
  {
   "cell_type": "code",
   "execution_count": 16,
   "metadata": {},
   "outputs": [
    {
     "data": {
      "text/html": [
       "<div>\n",
       "<style scoped>\n",
       "    .dataframe tbody tr th:only-of-type {\n",
       "        vertical-align: middle;\n",
       "    }\n",
       "\n",
       "    .dataframe tbody tr th {\n",
       "        vertical-align: top;\n",
       "    }\n",
       "\n",
       "    .dataframe thead th {\n",
       "        text-align: right;\n",
       "    }\n",
       "</style>\n",
       "<table border=\"1\" class=\"dataframe\">\n",
       "  <thead>\n",
       "    <tr style=\"text-align: right;\">\n",
       "      <th></th>\n",
       "      <th>NAME_1</th>\n",
       "      <th>NAME_2</th>\n",
       "      <th>CC_2</th>\n",
       "      <th>NAT2018</th>\n",
       "      <th>geometry</th>\n",
       "    </tr>\n",
       "  </thead>\n",
       "  <tbody>\n",
       "    <tr>\n",
       "      <td>0</td>\n",
       "      <td>Andalucía</td>\n",
       "      <td>Almería</td>\n",
       "      <td>04</td>\n",
       "      <td>10.48</td>\n",
       "      <td>MULTIPOLYGON (((-3.03042 35.94236, -3.03375 35...</td>\n",
       "    </tr>\n",
       "    <tr>\n",
       "      <td>1</td>\n",
       "      <td>Andalucía</td>\n",
       "      <td>Cádiz</td>\n",
       "      <td>11</td>\n",
       "      <td>8.11</td>\n",
       "      <td>MULTIPOLYGON (((-6.21958 36.38110, -6.21958 36...</td>\n",
       "    </tr>\n",
       "    <tr>\n",
       "      <td>2</td>\n",
       "      <td>Andalucía</td>\n",
       "      <td>Córdoba</td>\n",
       "      <td>14</td>\n",
       "      <td>7.90</td>\n",
       "      <td>MULTIPOLYGON (((-5.04854 37.63690, -5.02637 37...</td>\n",
       "    </tr>\n",
       "    <tr>\n",
       "      <td>3</td>\n",
       "      <td>Andalucía</td>\n",
       "      <td>Granada</td>\n",
       "      <td>18</td>\n",
       "      <td>7.78</td>\n",
       "      <td>POLYGON ((-3.35014 36.72952, -3.77292 36.73125...</td>\n",
       "    </tr>\n",
       "    <tr>\n",
       "      <td>4</td>\n",
       "      <td>Andalucía</td>\n",
       "      <td>Huelva</td>\n",
       "      <td>21</td>\n",
       "      <td>7.57</td>\n",
       "      <td>MULTIPOLYGON (((-6.83648 37.11547, -6.83458 37...</td>\n",
       "    </tr>\n",
       "  </tbody>\n",
       "</table>\n",
       "</div>"
      ],
      "text/plain": [
       "      NAME_1   NAME_2 CC_2  NAT2018  \\\n",
       "0  Andalucía  Almería   04    10.48   \n",
       "1  Andalucía    Cádiz   11     8.11   \n",
       "2  Andalucía  Córdoba   14     7.90   \n",
       "3  Andalucía  Granada   18     7.78   \n",
       "4  Andalucía   Huelva   21     7.57   \n",
       "\n",
       "                                            geometry  \n",
       "0  MULTIPOLYGON (((-3.03042 35.94236, -3.03375 35...  \n",
       "1  MULTIPOLYGON (((-6.21958 36.38110, -6.21958 36...  \n",
       "2  MULTIPOLYGON (((-5.04854 37.63690, -5.02637 37...  \n",
       "3  POLYGON ((-3.35014 36.72952, -3.77292 36.73125...  \n",
       "4  MULTIPOLYGON (((-6.83648 37.11547, -6.83458 37...  "
      ]
     },
     "execution_count": 16,
     "metadata": {},
     "output_type": "execute_result"
    }
   ],
   "source": [
    "map_data.head()"
   ]
  },
  {
   "cell_type": "code",
   "execution_count": 17,
   "metadata": {},
   "outputs": [],
   "source": [
    "df = map_data.copy()"
   ]
  },
  {
   "cell_type": "code",
   "execution_count": 18,
   "metadata": {},
   "outputs": [
    {
     "name": "stdout",
     "output_type": "stream",
     "text": [
      "<class 'geopandas.geodataframe.GeoDataFrame'>\n",
      "RangeIndex: 50 entries, 0 to 49\n",
      "Data columns (total 5 columns):\n",
      "NAME_1      50 non-null object\n",
      "NAME_2      50 non-null object\n",
      "CC_2        50 non-null object\n",
      "NAT2018     50 non-null float64\n",
      "geometry    50 non-null geometry\n",
      "dtypes: float64(1), geometry(1), object(3)\n",
      "memory usage: 2.1+ KB\n"
     ]
    }
   ],
   "source": [
    "df.info()"
   ]
  },
  {
   "cell_type": "code",
   "execution_count": 19,
   "metadata": {},
   "outputs": [],
   "source": [
    "from sqlalchemy import create_engine\n",
    "from sqlalchemy.types import Integer, String, JSON, Float\n",
    "from geoalchemy2 import Geometry, WKTElement\n",
    "\n",
    "engine = create_engine('postgresql://localhost/portfolio_db', echo=False)"
   ]
  },
  {
   "cell_type": "code",
   "execution_count": 20,
   "metadata": {},
   "outputs": [
    {
     "data": {
      "text/html": [
       "<div>\n",
       "<style scoped>\n",
       "    .dataframe tbody tr th:only-of-type {\n",
       "        vertical-align: middle;\n",
       "    }\n",
       "\n",
       "    .dataframe tbody tr th {\n",
       "        vertical-align: top;\n",
       "    }\n",
       "\n",
       "    .dataframe thead th {\n",
       "        text-align: right;\n",
       "    }\n",
       "</style>\n",
       "<table border=\"1\" class=\"dataframe\">\n",
       "  <thead>\n",
       "    <tr style=\"text-align: right;\">\n",
       "      <th></th>\n",
       "      <th>NAME_1</th>\n",
       "      <th>NAME_2</th>\n",
       "      <th>CC_2</th>\n",
       "      <th>NAT2018</th>\n",
       "      <th>geometry</th>\n",
       "    </tr>\n",
       "  </thead>\n",
       "  <tbody>\n",
       "    <tr>\n",
       "      <td>0</td>\n",
       "      <td>Andalucía</td>\n",
       "      <td>Almería</td>\n",
       "      <td>04</td>\n",
       "      <td>10.48</td>\n",
       "      <td>MULTIPOLYGON (((-3.03042 35.94236, -3.03375 35...</td>\n",
       "    </tr>\n",
       "    <tr>\n",
       "      <td>1</td>\n",
       "      <td>Andalucía</td>\n",
       "      <td>Cádiz</td>\n",
       "      <td>11</td>\n",
       "      <td>8.11</td>\n",
       "      <td>MULTIPOLYGON (((-6.21958 36.38110, -6.21958 36...</td>\n",
       "    </tr>\n",
       "    <tr>\n",
       "      <td>2</td>\n",
       "      <td>Andalucía</td>\n",
       "      <td>Córdoba</td>\n",
       "      <td>14</td>\n",
       "      <td>7.90</td>\n",
       "      <td>MULTIPOLYGON (((-5.04854 37.63690, -5.02637 37...</td>\n",
       "    </tr>\n",
       "    <tr>\n",
       "      <td>3</td>\n",
       "      <td>Andalucía</td>\n",
       "      <td>Granada</td>\n",
       "      <td>18</td>\n",
       "      <td>7.78</td>\n",
       "      <td>POLYGON ((-3.35014 36.72952, -3.77292 36.73125...</td>\n",
       "    </tr>\n",
       "    <tr>\n",
       "      <td>4</td>\n",
       "      <td>Andalucía</td>\n",
       "      <td>Huelva</td>\n",
       "      <td>21</td>\n",
       "      <td>7.57</td>\n",
       "      <td>MULTIPOLYGON (((-6.83648 37.11547, -6.83458 37...</td>\n",
       "    </tr>\n",
       "  </tbody>\n",
       "</table>\n",
       "</div>"
      ],
      "text/plain": [
       "      NAME_1   NAME_2 CC_2  NAT2018  \\\n",
       "0  Andalucía  Almería   04    10.48   \n",
       "1  Andalucía    Cádiz   11     8.11   \n",
       "2  Andalucía  Córdoba   14     7.90   \n",
       "3  Andalucía  Granada   18     7.78   \n",
       "4  Andalucía   Huelva   21     7.57   \n",
       "\n",
       "                                            geometry  \n",
       "0  MULTIPOLYGON (((-3.03042 35.94236, -3.03375 35...  \n",
       "1  MULTIPOLYGON (((-6.21958 36.38110, -6.21958 36...  \n",
       "2  MULTIPOLYGON (((-5.04854 37.63690, -5.02637 37...  \n",
       "3  POLYGON ((-3.35014 36.72952, -3.77292 36.73125...  \n",
       "4  MULTIPOLYGON (((-6.83648 37.11547, -6.83458 37...  "
      ]
     },
     "execution_count": 20,
     "metadata": {},
     "output_type": "execute_result"
    }
   ],
   "source": [
    "df.head()"
   ]
  },
  {
   "cell_type": "code",
   "execution_count": 21,
   "metadata": {},
   "outputs": [],
   "source": [
    "df['geometry'] = df['geometry'].apply(lambda x: str(WKTElement(x.wkt)))"
   ]
  },
  {
   "cell_type": "code",
   "execution_count": 22,
   "metadata": {},
   "outputs": [],
   "source": [
    "df['id'] = np.arange(len(df))"
   ]
  },
  {
   "cell_type": "code",
   "execution_count": 27,
   "metadata": {},
   "outputs": [],
   "source": [
    "df.columns = ['name_1', 'name_2', 'cc_2', 'nat2018', 'geometry', 'id']"
   ]
  },
  {
   "cell_type": "code",
   "execution_count": 28,
   "metadata": {},
   "outputs": [
    {
     "name": "stdout",
     "output_type": "stream",
     "text": [
      "<class 'geopandas.geodataframe.GeoDataFrame'>\n",
      "RangeIndex: 50 entries, 0 to 49\n",
      "Data columns (total 6 columns):\n",
      "name_1      50 non-null object\n",
      "name_2      50 non-null object\n",
      "cc_2        50 non-null object\n",
      "nat2018     50 non-null float64\n",
      "geometry    50 non-null object\n",
      "id          50 non-null int64\n",
      "dtypes: float64(1), int64(1), object(4)\n",
      "memory usage: 2.5+ KB\n"
     ]
    }
   ],
   "source": [
    "df.info()"
   ]
  },
  {
   "cell_type": "code",
   "execution_count": 30,
   "metadata": {},
   "outputs": [],
   "source": [
    "from sqlalchemy.types import Float, String, Integer\n",
    "df.to_sql('geodata', con=engine, index=False, if_exists = 'append',\n",
    "          dtype={\"id\": Integer(),\n",
    "                 \"name_1\": String(),\n",
    "                \"name_2\": String(),\n",
    "                \"cc_2\": String(),\n",
    "                \"nat2018\": Float(),\n",
    "                \"geometry\": String()})"
   ]
  },
  {
   "cell_type": "code",
   "execution_count": null,
   "metadata": {},
   "outputs": [],
   "source": [
    "df_out = pd.read_sql_table('geodata', engine) "
   ]
  },
  {
   "cell_type": "code",
   "execution_count": null,
   "metadata": {},
   "outputs": [],
   "source": [
    "from shapely import wkt\n",
    "import geopandas as gpd"
   ]
  },
  {
   "cell_type": "code",
   "execution_count": null,
   "metadata": {},
   "outputs": [],
   "source": [
    "df_out.head()"
   ]
  },
  {
   "cell_type": "code",
   "execution_count": null,
   "metadata": {},
   "outputs": [],
   "source": [
    "df_out['geometry'] = df_out['geometry'].apply(wkt.loads)\n",
    "my_geo_df = gpd.GeoDataFrame(df_out, geometry='geometry')"
   ]
  },
  {
   "cell_type": "code",
   "execution_count": null,
   "metadata": {},
   "outputs": [],
   "source": [
    "my_geo_df.info()"
   ]
  },
  {
   "cell_type": "code",
   "execution_count": null,
   "metadata": {},
   "outputs": [],
   "source": [
    "# Control del tamaño de la figura del mapa\n",
    "fig, ax = plt.subplots(figsize=(10, 10))\n",
    " \n",
    "# Control del título y los ejes\n",
    "ax.set_title('Natalidad por Provincias en España, 2018', \n",
    "             pad = 20, \n",
    "             fontdict={'fontsize':20, 'color': '#4873ab'})\n",
    "ax.set_xlabel('Longitud')\n",
    "ax.set_ylabel('Latitud')\n",
    " \n",
    "# Mostrar el mapa finalizado\n",
    "my_geo_df.plot(column='NAT2018', cmap='plasma', ax=ax, zorder=5)"
   ]
  },
  {
   "cell_type": "code",
   "execution_count": null,
   "metadata": {},
   "outputs": [],
   "source": []
  }
 ],
 "metadata": {
  "kernelspec": {
   "display_name": "Python 3",
   "language": "python",
   "name": "python3"
  },
  "language_info": {
   "codemirror_mode": {
    "name": "ipython",
    "version": 3
   },
   "file_extension": ".py",
   "mimetype": "text/x-python",
   "name": "python",
   "nbconvert_exporter": "python",
   "pygments_lexer": "ipython3",
   "version": "3.7.6"
  }
 },
 "nbformat": 4,
 "nbformat_minor": 4
}
